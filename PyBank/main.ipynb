{
 "cells": [
  {
   "cell_type": "code",
   "execution_count": 66,
   "id": "2ee3fcf3-9cfb-40f1-8ed6-8f9e7f7bd169",
   "metadata": {
    "tags": []
   },
   "outputs": [],
   "source": [
    "import csv"
   ]
  },
  {
   "cell_type": "markdown",
   "id": "4839a38b-1f9c-43c1-bbe1-e9938f5eb075",
   "metadata": {},
   "source": [
    "# File path for the CSV file"
   ]
  },
  {
   "cell_type": "code",
   "execution_count": 83,
   "id": "a1ea8435-f96b-4e4e-867d-68e5fdda2ee7",
   "metadata": {
    "tags": []
   },
   "outputs": [],
   "source": [
    "a = \"C:/Users/jiv50/\"\n",
    "csv_file_path = a + 'FinTech Working Space/python-challenge/PyBank/budget_data.csv'"
   ]
  },
  {
   "cell_type": "markdown",
   "id": "e0979db4-3e12-48fa-abd7-933d64f4bfd0",
   "metadata": {},
   "source": [
    "# Initialize variables"
   ]
  },
  {
   "cell_type": "code",
   "execution_count": 84,
   "id": "ed3df5b5-fd12-4449-bbcf-1f85e9e8ce0e",
   "metadata": {
    "tags": []
   },
   "outputs": [],
   "source": [
    "def analyze_financial_records(csv_file_path):    \n",
    "    total_months = 0\n",
    "    total_profit_loss = 0\n",
    "    previous_month_value = 0\n",
    "    monthly_change = []\n",
    "    greatest_increase = [\"\", 0]\n",
    "    greatest_decrease = [\"\", 99999999999]"
   ]
  },
  {
   "cell_type": "markdown",
   "id": "e710ad5e-2acd-49e3-a486-f112c4a8f45a",
   "metadata": {},
   "source": [
    "# Read the CSV file"
   ]
  },
  {
   "cell_type": "code",
   "execution_count": 91,
   "id": "2cb2a51e-a156-4d1b-b766-36a2c132747b",
   "metadata": {
    "tags": []
   },
   "outputs": [
    {
     "name": "stdout",
     "output_type": "stream",
     "text": [
      "Total Months: 86\n",
      "Total: $38382578\n",
      "Average Change: $-2315.12\n",
      "Greatest Increase in Profits: Feb-2012 ($1926159)\n",
      "Greatest Decrease in Profits: Sep-2013 ($-2196167)\n"
     ]
    }
   ],
   "source": [
    "with open(csv_file_path, newline='', encoding='utf-8') as csvfile:\n",
    "        csvreader = csv.reader(csvfile, delimiter=',')\n",
    "        header = next(csvreader)\n",
    "        \n",
    "        # Loop through the rows in the data\n",
    "        for row in csvreader:\n",
    "            # Count the total number of months\n",
    "            total_months += 1\n",
    "            \n",
    "            # Calculate the total profit/loss\n",
    "            total_profit_loss += int(row[1])\n",
    "            \n",
    "            # Calculate the monthly change in profit/loss\n",
    "            if total_months > 1:\n",
    "                change = int(row[1]) - previous_month_value\n",
    "                monthly_change.append(change)\n",
    "                \n",
    "                # Check for greatest increase in profits\n",
    "                if change > greatest_increase[1]:\n",
    "                    greatest_increase[1] = change\n",
    "                    greatest_increase[0] = row[0]\n",
    "\n",
    "                # Check for greatest decrease in losses\n",
    "                if change < greatest_decrease[1]:\n",
    "                    greatest_decrease[1] = change\n",
    "                    greatest_decrease[0] = row[0]\n",
    "            \n",
    "            previous_month_value = int(row[1])\n",
    "\n",
    "    # Calculate the average change in Profit/Losses\n",
    "average_change = sum(monthly_change) / len(monthly_change)\n",
    "\n",
    "    # Print the analysis\n",
    "print(f\"Total Months: {total_months}\")\n",
    "print(f\"Total: ${total_profit_loss}\")\n",
    "print(f\"Average Change: ${average_change:.2f}\")\n",
    "print(f\"Greatest Increase in Profits: {greatest_increase[0]} (${greatest_increase[1]})\")\n",
    "print(f\"Greatest Decrease in Profits: {greatest_decrease[0]} (${greatest_decrease[1]})\")\n",
    "\n",
    "# Example usage\n",
    "csv_file_path = a + 'FinTech Working Space/python-challenge/PyBank/budget_data.csv' # Replace with your CSV file path\n",
    "analyze_financial_records(csv_file_path)"
   ]
  }
 ],
 "metadata": {
  "kernelspec": {
   "display_name": "Python 3 (ipykernel)",
   "language": "python",
   "name": "python3"
  },
  "language_info": {
   "codemirror_mode": {
    "name": "ipython",
    "version": 3
   },
   "file_extension": ".py",
   "mimetype": "text/x-python",
   "name": "python",
   "nbconvert_exporter": "python",
   "pygments_lexer": "ipython3",
   "version": "3.11.5"
  }
 },
 "nbformat": 4,
 "nbformat_minor": 5
}
