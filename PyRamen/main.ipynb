{
 "cells": [
  {
   "cell_type": "code",
   "execution_count": 4,
   "id": "534ecee7-64c4-498d-a2e4-c80e6ea9f88a",
   "metadata": {},
   "outputs": [
    {
     "name": "stdout",
     "output_type": "stream",
     "text": [
      "Total number of records in sales data: 74124\n"
     ]
    }
   ],
   "source": [
    "# -*- coding: UTF-8 -*-\n",
    "\"\"\"PyRamen Homework Starter.\"\"\"\n",
    "\n",
    "#Im# Import libraries\n",
    "import csv\n",
    "from pathlib import Path\n",
    "\n",
    "# Set file paths for menu_data.csv and sales_data.csv\n",
    "menu_filepath = Path(r'C:\\Users\\jiv50\\FinTech Working Space\\python-challenge\\PyRamen\\Resources\\menu_data.csv')\n",
    "sales_filepath = Path(r'C:\\Users\\jiv50\\FinTech Working Space\\python-challenge\\PyRamen\\Resources\\sales_data.csv')\n",
    "\n",
    "# Initialize list objects to hold our menu and sales data\n",
    "menu = []\n",
    "sales = []\n",
    "\n",
    "# Read in the menu data into the menu list\n",
    "with open(menu_filepath, 'r', encoding='utf-8') as file:\n",
    "    csvreader = csv.reader(file)\n",
    "    next(csvreader)\n",
    "    for row in csvreader:\n",
    "        menu.append(row)\n",
    "\n",
    "# Read in the sales data into the sales list\n",
    "with open(sales_filepath, 'r', encoding='utf-8') as file:\n",
    "    csvreader = csv.reader(file)\n",
    "    next(csvreader)\n",
    "    for row in csvreader:\n",
    "        sales.append(row)\n",
    "\n",
    "# Initialize dict object to hold our key-value pairs of items and metrics\n",
    "report = {}\n",
    "\n",
    "# Initialize a row counter variable\n",
    "row_count = 0\n",
    "\n",
    "# Loop over every row in the sales list object\n",
    "for sale in sales:\n",
    "    # Initialize sales data variables\n",
    "    line_item_id, date, credit_card_number, quantity, menu_item = sale\n",
    "    quantity = int(quantity)  # Convert quantity to int\n",
    "    row_count += 1  # Increment the row counter\n",
    "\n",
    "    # If the item value not in the report, add it as a new entry with initialized metrics\n",
    "    if menu_item not in report:\n",
    "        report[menu_item] = {\"01-count\": 0, \"02-revenue\": 0, \"03-cogs\": 0, \"04-profit\": 0}\n",
    "\n",
    "    # For every row in our sales data, loop over the menu records to determine a match\n",
    "    for item in menu:\n",
    "        item_name, category, description, price, cost = item\n",
    "        price = float(price)  # Convert price to float\n",
    "        cost = float(cost)  # Convert cost to float\n",
    "\n",
    "        # Calculate profit of each item in the menu data\n",
    "        profit = price - cost\n",
    "\n",
    "        # If the item value in our sales data is equal to any of the items in the menu\n",
    "        if menu_item == item_name:\n",
    "            # Cumulatively add up the metrics for each item key\n",
    "            report[menu_item][\"01-count\"] += quantity\n",
    "            report[menu_item][\"02-revenue\"] += price * quantity\n",
    "            report[menu_item][\"03-cogs\"] += cost * quantity\n",
    "            report[menu_item][\"04-profit\"] += profit * quantity\n",
    "\n",
    "# Print total number of records in sales data\n",
    "print(f\"Total number of records in sales data: {row_count}\")\n",
    "\n",
    "# Write out report to a text file\n",
    "report_file_path = 'C:/Users/jiv50/FinTech Working Space/python-challenge/PyRamen/report_file.txt'\n",
    "\n",
    "with open(report_file_path, 'w') as file:\n",
    "    for key, value in report.items():\n",
    "        file.write(f\"{key} {value}\\n\")\n"
   ]
  },
  {
   "cell_type": "code",
   "execution_count": null,
   "id": "ebb11201-fd61-4b0c-8ff6-0fdee8f15233",
   "metadata": {},
   "outputs": [],
   "source": []
  }
 ],
 "metadata": {
  "kernelspec": {
   "display_name": "Python 3 (ipykernel)",
   "language": "python",
   "name": "python3"
  },
  "language_info": {
   "codemirror_mode": {
    "name": "ipython",
    "version": 3
   },
   "file_extension": ".py",
   "mimetype": "text/x-python",
   "name": "python",
   "nbconvert_exporter": "python",
   "pygments_lexer": "ipython3",
   "version": "3.10.13"
  }
 },
 "nbformat": 4,
 "nbformat_minor": 5
}
