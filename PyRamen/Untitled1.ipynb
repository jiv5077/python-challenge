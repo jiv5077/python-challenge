{
 "cells": [
  {
   "cell_type": "code",
   "execution_count": 3,
   "id": "2f37996b-fc8c-4220-bc79-af7640caff46",
   "metadata": {
    "tags": []
   },
   "outputs": [
    {
     "name": "stdout",
     "output_type": "stream",
     "text": [
      "Template created at: /mnt/data/Bank_Reconciliation_Template.xlsx\n"
     ]
    }
   ],
   "source": [
    "import os\n",
    "from openpyxl import Workbook\n",
    "\n",
    "def create_bank_reconciliation_template():\n",
    "    wb = Workbook()\n",
    "    ws = wb.active\n",
    "    ws.title = \"Bank Reconciliation\"\n",
    "\n",
    "    # Your code to add data to the workbook goes here\n",
    "\n",
    "    # Save the workbook\n",
    "    directory = \"/mnt/data/\"\n",
    "    if not os.path.exists(directory):\n",
    "        os.makedirs(directory)  # Create the directory if it does not exist\n",
    "\n",
    "    filename = os.path.join(directory, \"Bank_Reconciliation_Template.xlsx\")\n",
    "    wb.save(filename)\n",
    "    return filename\n",
    "\n",
    "# Create the bank reconciliation template\n",
    "template_file = create_bank_reconciliation_template()\n",
    "print(\"Template created at:\", template_file)\n"
   ]
  },
  {
   "cell_type": "code",
   "execution_count": null,
   "id": "3e62e723-91d2-48c3-9a76-310954aedb01",
   "metadata": {},
   "outputs": [],
   "source": []
  }
 ],
 "metadata": {
  "kernelspec": {
   "display_name": "Python 3 (ipykernel)",
   "language": "python",
   "name": "python3"
  },
  "language_info": {
   "codemirror_mode": {
    "name": "ipython",
    "version": 3
   },
   "file_extension": ".py",
   "mimetype": "text/x-python",
   "name": "python",
   "nbconvert_exporter": "python",
   "pygments_lexer": "ipython3",
   "version": "3.10.13"
  }
 },
 "nbformat": 4,
 "nbformat_minor": 5
}
