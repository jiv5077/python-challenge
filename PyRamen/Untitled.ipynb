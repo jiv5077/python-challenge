{
 "cells": [
  {
   "cell_type": "code",
   "execution_count": 1,
   "id": "2e8005cc-ad77-4d28-9870-cf33daada762",
   "metadata": {
    "tags": []
   },
   "outputs": [
    {
     "ename": "FileNotFoundError",
     "evalue": "[Errno 2] No such file or directory: '/mnt/data/Bank_Reconciliation_Template.xlsx'",
     "output_type": "error",
     "traceback": [
      "\u001b[1;31m---------------------------------------------------------------------------\u001b[0m",
      "\u001b[1;31mFileNotFoundError\u001b[0m                         Traceback (most recent call last)",
      "Cell \u001b[1;32mIn[1], line 47\u001b[0m\n\u001b[0;32m     44\u001b[0m     \u001b[38;5;28;01mreturn\u001b[39;00m filename\n\u001b[0;32m     46\u001b[0m \u001b[38;5;66;03m# Create the bank reconciliation template\u001b[39;00m\n\u001b[1;32m---> 47\u001b[0m template_file \u001b[38;5;241m=\u001b[39m create_bank_reconciliation_template()\n\u001b[0;32m     48\u001b[0m template_file\n",
      "Cell \u001b[1;32mIn[1], line 42\u001b[0m, in \u001b[0;36mcreate_bank_reconciliation_template\u001b[1;34m()\u001b[0m\n\u001b[0;32m     40\u001b[0m \u001b[38;5;66;03m# Save the workbook\u001b[39;00m\n\u001b[0;32m     41\u001b[0m filename \u001b[38;5;241m=\u001b[39m \u001b[38;5;124m\"\u001b[39m\u001b[38;5;124m/mnt/data/Bank_Reconciliation_Template.xlsx\u001b[39m\u001b[38;5;124m\"\u001b[39m\n\u001b[1;32m---> 42\u001b[0m wb\u001b[38;5;241m.\u001b[39msave(filename)\n\u001b[0;32m     44\u001b[0m \u001b[38;5;28;01mreturn\u001b[39;00m filename\n",
      "File \u001b[1;32m~\\anaconda3\\Lib\\site-packages\\openpyxl\\workbook\\workbook.py:407\u001b[0m, in \u001b[0;36mWorkbook.save\u001b[1;34m(self, filename)\u001b[0m\n\u001b[0;32m    405\u001b[0m \u001b[38;5;28;01mif\u001b[39;00m \u001b[38;5;28mself\u001b[39m\u001b[38;5;241m.\u001b[39mwrite_only \u001b[38;5;129;01mand\u001b[39;00m \u001b[38;5;129;01mnot\u001b[39;00m \u001b[38;5;28mself\u001b[39m\u001b[38;5;241m.\u001b[39mworksheets:\n\u001b[0;32m    406\u001b[0m     \u001b[38;5;28mself\u001b[39m\u001b[38;5;241m.\u001b[39mcreate_sheet()\n\u001b[1;32m--> 407\u001b[0m save_workbook(\u001b[38;5;28mself\u001b[39m, filename)\n",
      "File \u001b[1;32m~\\anaconda3\\Lib\\site-packages\\openpyxl\\writer\\excel.py:291\u001b[0m, in \u001b[0;36msave_workbook\u001b[1;34m(workbook, filename)\u001b[0m\n\u001b[0;32m    279\u001b[0m \u001b[38;5;28;01mdef\u001b[39;00m \u001b[38;5;21msave_workbook\u001b[39m(workbook, filename):\n\u001b[0;32m    280\u001b[0m \u001b[38;5;250m    \u001b[39m\u001b[38;5;124;03m\"\"\"Save the given workbook on the filesystem under the name filename.\u001b[39;00m\n\u001b[0;32m    281\u001b[0m \n\u001b[0;32m    282\u001b[0m \u001b[38;5;124;03m    :param workbook: the workbook to save\u001b[39;00m\n\u001b[1;32m   (...)\u001b[0m\n\u001b[0;32m    289\u001b[0m \n\u001b[0;32m    290\u001b[0m \u001b[38;5;124;03m    \"\"\"\u001b[39;00m\n\u001b[1;32m--> 291\u001b[0m     archive \u001b[38;5;241m=\u001b[39m ZipFile(filename, \u001b[38;5;124m'\u001b[39m\u001b[38;5;124mw\u001b[39m\u001b[38;5;124m'\u001b[39m, ZIP_DEFLATED, allowZip64\u001b[38;5;241m=\u001b[39m\u001b[38;5;28;01mTrue\u001b[39;00m)\n\u001b[0;32m    292\u001b[0m     writer \u001b[38;5;241m=\u001b[39m ExcelWriter(workbook, archive)\n\u001b[0;32m    293\u001b[0m     writer\u001b[38;5;241m.\u001b[39msave()\n",
      "File \u001b[1;32m~\\anaconda3\\Lib\\zipfile.py:1284\u001b[0m, in \u001b[0;36mZipFile.__init__\u001b[1;34m(self, file, mode, compression, allowZip64, compresslevel, strict_timestamps, metadata_encoding)\u001b[0m\n\u001b[0;32m   1282\u001b[0m \u001b[38;5;28;01mwhile\u001b[39;00m \u001b[38;5;28;01mTrue\u001b[39;00m:\n\u001b[0;32m   1283\u001b[0m     \u001b[38;5;28;01mtry\u001b[39;00m:\n\u001b[1;32m-> 1284\u001b[0m         \u001b[38;5;28mself\u001b[39m\u001b[38;5;241m.\u001b[39mfp \u001b[38;5;241m=\u001b[39m io\u001b[38;5;241m.\u001b[39mopen(file, filemode)\n\u001b[0;32m   1285\u001b[0m     \u001b[38;5;28;01mexcept\u001b[39;00m \u001b[38;5;167;01mOSError\u001b[39;00m:\n\u001b[0;32m   1286\u001b[0m         \u001b[38;5;28;01mif\u001b[39;00m filemode \u001b[38;5;129;01min\u001b[39;00m modeDict:\n",
      "\u001b[1;31mFileNotFoundError\u001b[0m: [Errno 2] No such file or directory: '/mnt/data/Bank_Reconciliation_Template.xlsx'"
     ]
    }
   ],
   "source": [
    "import openpyxl\n",
    "from openpyxl.styles import Font, Alignment\n",
    "from openpyxl.utils import get_column_letter\n",
    "\n",
    "def create_bank_reconciliation_template():\n",
    "    # Create a new workbook and select the active sheet\n",
    "    wb = openpyxl.Workbook()\n",
    "    sheet = wb.active\n",
    "    sheet.title = \"Bank Reconciliation\"\n",
    "\n",
    "    # Header\n",
    "    headers = [\"Bank Reconciliation Statement\", \"\", \"Account Number:\", \"\", \"Period:\"]\n",
    "    for i, header in enumerate(headers, start=1):\n",
    "        cell = sheet.cell(row=1, column=i)\n",
    "        cell.value = header\n",
    "        cell.font = Font(bold=True)\n",
    "        cell.alignment = Alignment(horizontal='center')\n",
    "\n",
    "    # Categories and initial setup\n",
    "    categories = [\"Bank Statement Balance\", \"Adjustments to Bank Statement Balance\", \"\",\n",
    "                  \"Deposits in Transit\", \"Outstanding Checks\", \"Bank Errors\", \n",
    "                  \"Adjusted Bank Statement Balance\", \"\",\n",
    "                  \"Book Balance\", \"Adjustments to Book Balance\", \"\",\n",
    "                  \"Interest Earned\", \"Service Charges/Fees\", \"NSF Checks\", \"Book Errors\",\n",
    "                  \"Adjusted Book Balance\", \"\",\n",
    "                  \"Reconciliation\", \"\",\n",
    "                  \"Notes\"]\n",
    "\n",
    "    row = 2\n",
    "    for category in categories:\n",
    "        cell = sheet.cell(row=row, column=1)\n",
    "        cell.value = category\n",
    "        cell.font = Font(bold=True)\n",
    "        row += 1\n",
    "\n",
    "    # Adjust column widths\n",
    "    for col in range(1, sheet.max_column + 1):\n",
    "        sheet.column_dimensions[get_column_letter(col)].width = 25\n",
    "\n",
    "    # Save the workbook\n",
    "    filename = \"/mnt/data/Bank_Reconciliation_Template.xlsx\"\n",
    "    wb.save(filename)\n",
    "\n",
    "    return filename\n",
    "\n",
    "# Create the bank reconciliation template\n",
    "template_file = create_bank_reconciliation_template()\n",
    "template_file\n"
   ]
  },
  {
   "cell_type": "code",
   "execution_count": null,
   "id": "4480edd0-23af-4e96-8b97-f554979e7fc1",
   "metadata": {},
   "outputs": [],
   "source": []
  }
 ],
 "metadata": {
  "kernelspec": {
   "display_name": "Python 3 (ipykernel)",
   "language": "python",
   "name": "python3"
  },
  "language_info": {
   "codemirror_mode": {
    "name": "ipython",
    "version": 3
   },
   "file_extension": ".py",
   "mimetype": "text/x-python",
   "name": "python",
   "nbconvert_exporter": "python",
   "pygments_lexer": "ipython3",
   "version": "3.10.13"
  }
 },
 "nbformat": 4,
 "nbformat_minor": 5
}
